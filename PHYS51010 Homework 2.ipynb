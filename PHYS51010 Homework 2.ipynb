{
 "cells": [
  {
   "cell_type": "markdown",
   "id": "40a80d56",
   "metadata": {},
   "source": [
    "The goal of the homework is to study, based on actual production data, the notion of \"peak oil\" introduced in lecture 1"
   ]
  },
  {
   "cell_type": "markdown",
   "id": "c3f322b6",
   "metadata": {},
   "source": [
    "#### Administrativia\n",
    "Groups composition to be provided no later than Wednesday, Sep. 25, 8 PM (by email)\\\n",
    "GROUPS SHALL DIFFER IN MEMBERSHIP FROM HOMEWORK #1\\\n",
    "Homework to be turned in Thursday, Oct. 3, 10 PM (deposit .ipynb file in Moodle / General Informations, only 1 submission per group)\\\n",
    "Please indicate here the names of the group's members:"
   ]
  },
  {
   "cell_type": "markdown",
   "id": "3465944f",
   "metadata": {},
   "source": [
    "#### Data set\n",
    "One CSV file, Oil_production.csv taken from https://www.energyinst.org/statistical-review/resources-and-data-downloads \\\n",
    "Description: crude oil production in million tonnes by country/region (col.A) and year\\\n",
    "NOTE: this is a good example of using \"real world\" imperfect data sets which have not been prepared for machine processing\\\n",
    "IMPORTANT: Your program shall take as input this csv file, without manual cleaning/preparation"
   ]
  },
  {
   "cell_type": "markdown",
   "id": "a1213360",
   "metadata": {},
   "source": [
    "#### Data preparation\n",
    "Study the data set and identify what cleanup/preparation steps are needed \\\n",
    "Remove all \"Total\" lines and remove USSR (it appears after the 1991 breakup as its member countries)"
   ]
  },
  {
   "cell_type": "code",
   "execution_count": 83,
   "id": "33c23866",
   "metadata": {},
   "outputs": [
    {
     "name": "stdout",
     "output_type": "stream",
     "text": [
      "original csv file:   Unnamed: 0 Unnamed: 1 Unnamed: 2 Unnamed: 3 Unnamed: 4 Unnamed: 5  \\\n",
      "0    Country       1965       1966       1967       1968       1969   \n",
      "1        NaN        NaN        NaN        NaN        NaN        NaN   \n",
      "2     Canada       43,9       48,2       52,7       57,1       62,2   \n",
      "3     Mexico       18,1       18,5       20,5       21,9         23   \n",
      "4         US      427,7      454,5      484,2      502,9      511,4   \n",
      "\n",
      "  Unnamed: 6 Unnamed: 7 Unnamed: 8 Unnamed: 9  ... Unnamed: 53 Unnamed: 54  \\\n",
      "0       1970       1971       1972       1973  ...        2017        2018   \n",
      "1        NaN        NaN        NaN        NaN  ...         NaN         NaN   \n",
      "2       70,1       75,2       86,7      100,3  ...       236,6       257,7   \n",
      "3       24,2       24,1       25,1       25,9  ...       109,5       102,3   \n",
      "4      533,5      525,9      527,9      514,7  ...       574,2       669,6   \n",
      "\n",
      "  Unnamed: 55 Unnamed: 56 Unnamed: 57 Unnamed: 58 Unnamed: 59  \\\n",
      "0        2019        2020        2021        2022        2023   \n",
      "1         NaN         NaN         NaN         NaN         NaN   \n",
      "2       263,5         252       266,6       273,9       277,9   \n",
      "3        94,9        95,1        96,4        97,6       102,5   \n",
      "4         751       713,3       715,9       762,1       827,1   \n",
      "\n",
      "  Growth rate per annum Unnamed: 61   Share  \n",
      "0                  2023     2013-23    2023  \n",
      "1                   NaN         NaN     NaN  \n",
      "2                 1,43%       3,60%   6,20%  \n",
      "3                 5,02%      -3,20%   2,30%  \n",
      "4                 8,54%       6,30%  18,30%  \n",
      "\n",
      "[5 rows x 63 columns]\n",
      "first two rows dropped:             Unnamed: 0 Unnamed: 1 Unnamed: 2 Unnamed: 3 Unnamed: 4 Unnamed: 5  \\\n",
      "2               Canada       43,9       48,2       52,7       57,1       62,2   \n",
      "3               Mexico       18,1       18,5       20,5       21,9         23   \n",
      "4                   US      427,7      454,5      484,2      502,9      511,4   \n",
      "5  Total North America      489,6      521,2      557,4      581,9      596,5   \n",
      "6                  NaN        NaN        NaN        NaN        NaN        NaN   \n",
      "\n",
      "  Unnamed: 6 Unnamed: 7 Unnamed: 8 Unnamed: 9  ... Unnamed: 53 Unnamed: 54  \\\n",
      "2       70,1       75,2       86,7      100,3  ...       236,6       257,7   \n",
      "3       24,2       24,1       25,1       25,9  ...       109,5       102,3   \n",
      "4      533,5      525,9      527,9      514,7  ...       574,2       669,6   \n",
      "5      627,7      625,2      639,7      640,8  ...       920,3      1029,6   \n",
      "6        NaN        NaN        NaN        NaN  ...         NaN         NaN   \n",
      "\n",
      "  Unnamed: 55 Unnamed: 56 Unnamed: 57 Unnamed: 58 Unnamed: 59  \\\n",
      "2       263,5         252       266,6       273,9       277,9   \n",
      "3        94,9        95,1        96,4        97,6       102,5   \n",
      "4         751       713,3       715,9       762,1       827,1   \n",
      "5      1109,4      1060,4        1079      1133,6      1207,5   \n",
      "6         NaN         NaN         NaN         NaN         NaN   \n",
      "\n",
      "  Growth rate per annum Unnamed: 61   Share  \n",
      "2                 1,43%       3,60%   6,20%  \n",
      "3                 5,02%      -3,20%   2,30%  \n",
      "4                 8,54%       6,30%  18,30%  \n",
      "5                 6,52%       4,40%  26,80%  \n",
      "6                   NaN         NaN     NaN  \n",
      "\n",
      "[5 rows x 63 columns]\n"
     ]
    }
   ],
   "source": [
    "import pandas as pd \n",
    "df = pd.read_csv('Oil_production.csv', skiprows=1,encoding='latin1', delimiter=';')\n",
    "print(f'original csv file: {df.head()}')\n",
    "\n",
    "# drop first two rows\n",
    "df = df.drop(df.index[:2])\n",
    "print(f'first two rows dropped: {df.head()}')\n",
    "\n",
    "# Keep all rows\"Total\" lines, lines withut country names,and remove USSR\n",
    "df_filtered = df[\n",
    "    (~df.iloc[:,0].str.contains('Total', case=False, na=False)) &\n",
    "    (~df.iloc[:,0].str.contains('USSR', case=False, na=False)) &\n",
    "    (df.iloc[:,0].notna())\n",
    "]\n",
    "\n",
    "df = df.reset_index(drop=True)\n",
    "df_filtered.to_csv('Oil_production_cleaned.csv', index=False, float_format='%.1f', sep=';', decimal='.')"
   ]
  },
  {
   "cell_type": "markdown",
   "id": "7b1702df",
   "metadata": {},
   "source": [
    "#### Data processing\n",
    "Write a function which takes as input :\n",
    "1. time series (floats)\n",
    "2.   a threshold (float)\n",
    "\n",
    "and returns true if the last two data points of the time series are more than threshold % lower than the maximum value in the series"
   ]
  },
  {
   "cell_type": "code",
   "execution_count": 84,
   "id": "94f6babf",
   "metadata": {},
   "outputs": [
    {
     "name": "stderr",
     "output_type": "stream",
     "text": [
      "/var/folders/96/qj751xx557q28_4ctxx82jlw0000gn/T/ipykernel_16032/461408190.py:9: FutureWarning: Series.__getitem__ treating keys as positions is deprecated. In a future version, integer keys will always be treated as labels (consistent with DataFrame behavior). To access a value by position, use `ser.iloc[pos]`\n",
      "  sec_last = numeric_row[-5]\n",
      "/var/folders/96/qj751xx557q28_4ctxx82jlw0000gn/T/ipykernel_16032/461408190.py:10: FutureWarning: Series.__getitem__ treating keys as positions is deprecated. In a future version, integer keys will always be treated as labels (consistent with DataFrame behavior). To access a value by position, use `ser.iloc[pos]`\n",
      "  last = numeric_row[-4] # two last columns in every chosen row\n"
     ]
    },
    {
     "data": {
      "text/plain": [
       "False"
      ]
     },
     "execution_count": 84,
     "metadata": {},
     "output_type": "execute_result"
    }
   ],
   "source": [
    "# series is a number indicating a row in csv\n",
    "def has_peaked(series, threshold):\n",
    "    df = pd.read_csv('Oil_production_cleaned.csv', delimiter=';', header=0)\n",
    "    row = df.iloc[series,1:-3] # choose all columns except the country column in given rows\n",
    "    #df_list = df.tolist()\n",
    "    numeric_row = row.apply(lambda x: float(str(x).replace(',', '.')) if isinstance(x, str) else x)\n",
    "\n",
    "    max_value = numeric_row.max()\n",
    "    sec_last = numeric_row[-5] \n",
    "    last = numeric_row[-4] # two last columns in every chosen row\n",
    "    if ((max_value - last)/ max_value > threshold and (max_value - sec_last)/ max_value > threshold):\n",
    "        return True # production peaked\n",
    "    else:\n",
    "        return False # production not peaked\n",
    "# returns bool\n",
    "\n",
    "# Check\n",
    "has_peaked(3, 0.5)\n"
   ]
  },
  {
   "cell_type": "markdown",
   "id": "e8306a80",
   "metadata": {},
   "source": [
    "##### First graph\n",
    "Plot on Y axis the percentage (0 to 1) of all oil-producing countries whose recent production (last 2 years) is more than threshold % lower than their peak as a function of threshold, with threshold ranging from 0 to 100 (X axis)\\\n",
    "How many countries have not peaked yet?"
   ]
  },
  {
   "cell_type": "markdown",
   "id": "ef95835d",
   "metadata": {},
   "source": [
    "#### Second graph\n",
    "Plot a stacked vertical bar graph with each country on the X axis (sorted by decreasing value of the country's maximum production). Each bar displays both the 2023  production and the maximum production (in a lighter color) of the country\\\n",
    "Bonus points if the bar's color encodes the oil-producing region the country belongs to."
   ]
  },
  {
   "cell_type": "code",
   "execution_count": null,
   "id": "114080b8",
   "metadata": {},
   "outputs": [],
   "source": []
  }
 ],
 "metadata": {
  "kernelspec": {
   "display_name": "Python 3 (ipykernel)",
   "language": "python",
   "name": "python3"
  },
  "language_info": {
   "codemirror_mode": {
    "name": "ipython",
    "version": 3
   },
   "file_extension": ".py",
   "mimetype": "text/x-python",
   "name": "python",
   "nbconvert_exporter": "python",
   "pygments_lexer": "ipython3",
   "version": "3.11.5"
  }
 },
 "nbformat": 4,
 "nbformat_minor": 5
}
